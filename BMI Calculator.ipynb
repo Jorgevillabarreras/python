{
 "cells": [
  {
   "cell_type": "code",
   "execution_count": 2,
   "id": "0c80cf18",
   "metadata": {},
   "outputs": [
    {
     "name": "stdout",
     "output_type": "stream",
     "text": [
      "enter your height in m: 1.75\n",
      "enter your weight in kg: 80\n",
      "26\n"
     ]
    }
   ],
   "source": [
    "#!/bin/python3\n",
    "\n",
    "height = input(\"enter your height in m: \")\n",
    "weight = input(\"enter your weight in kg: \")\n",
    "\n",
    "height1 = float(height)\n",
    "\n",
    "weight1 = int(weight)\n",
    "\n",
    "bmi = weight1 / height1 ** 2\n",
    "\n",
    "print(int(bmi))"
   ]
  },
  {
   "cell_type": "code",
   "execution_count": null,
   "id": "ddec1d28",
   "metadata": {},
   "outputs": [],
   "source": []
  }
 ],
 "metadata": {
  "kernelspec": {
   "display_name": "Python 3",
   "language": "python",
   "name": "python3"
  },
  "language_info": {
   "codemirror_mode": {
    "name": "ipython",
    "version": 3
   },
   "file_extension": ".py",
   "mimetype": "text/x-python",
   "name": "python",
   "nbconvert_exporter": "python",
   "pygments_lexer": "ipython3",
   "version": "3.8.8"
  }
 },
 "nbformat": 4,
 "nbformat_minor": 5
}
